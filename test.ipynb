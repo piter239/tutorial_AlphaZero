{
 "cells": [
  {
   "cell_type": "code",
   "execution_count": null,
   "metadata": {
    "pycharm": {
     "is_executing": true
    }
   },
   "outputs": [],
   "source": [
    "from games import ConnectFour, TicTacToe\n",
    "from models import ResNet\n",
    "from utils import KaggleAgent, evaluateKaggle\n",
    "import torch\n",
    "\n",
    "#device = torch.device(\"cuda\" if torch.cuda.is_available() else \"cpu\")\n",
    "device = \"cpu\""
   ]
  },
  {
   "cell_type": "code",
   "execution_count": null,
   "metadata": {},
   "outputs": [],
   "source": [
    "# Test TicTacToe\n",
    "game = TicTacToe()\n",
    "model = ResNet(game, 4, 64, device)\n",
    "model.load_state_dict(torch.load(f'Models/{game}/model.pt', map_location=device))\n",
    "model.eval()\n",
    "player = KaggleAgent(model, game, args={\n",
    "    'search': True,\n",
    "    'augment': False,\n",
    "    'temperature': 1,\n",
    "    'num_simulation_games': 100,\n",
    "    'c_puct': 1,\n",
    "    'dirichlet_alpha': 0.3,\n",
    "    'dirichlet_epsilon': 0.0,\n",
    "\n",
    "    # 'num_iterations': 8,              # number of highest level iterations\n",
    "    # 'num_selfPlay_iterations': 500,   # number of self-play games to play within each iteration\n",
    "    # 'num_parallel_games': 100,        # number of games to play in parallel\n",
    "    'num_mcts_searches': 60,          # number of mcts simulations when selecting a move within self-play\n",
    "    # 'num_epochs': 4,                  # number of epochs for training on self-play data for each iteration\n",
    "    # 'batch_size': 64,                 # batch size for training\n",
    "    # 'temperature': 1.25,                 # temperature for the softmax selection of moves\n",
    "    'C': 2,                      # the value of the constant policy\n",
    "    # 'augment': False,                 # whether to augment the training data with flipped states\n",
    "    # 'dirichlet_alpha': 0.3,           # the value of the dirichlet noise\n",
    "    # 'dirichlet_epsilon': 0.125,       # the value of the dirichlet noise\n",
    "\n",
    "})\n",
    "\n",
    "evaluateKaggle(\"tictactoe\", [\"reaction\", player.run], num_iterations=100)\n",
    "print(\"\\n\")\n",
    "evaluateKaggle(\"tictactoe\", [player.run, \"reaction\"], num_iterations=1)"
   ]
  },
  {
   "cell_type": "code",
   "execution_count": null,
   "metadata": {},
   "outputs": [],
   "source": [
    "# Test ConnectFour\n",
    "game = ConnectFour()\n",
    "model = ResNet(9, game).to(device)\n",
    "model.load_state_dict(torch.load(f'Models/{game}/model.pt', map_location=device))\n",
    "model.eval()\n",
    "player = KaggleAgent(model, game, args={\n",
    "    'search': True,\n",
    "    'augment': False,\n",
    "    'temperature': 1,\n",
    "    'num_simulation_games': 100,\n",
    "    'c_puct': 1,\n",
    "    'dirichlet_alpha': 0.3,\n",
    "    'dirichlet_epsilon': 0.0,\n",
    "})\n",
    "\n",
    "evaluateKaggle(\"connectx\", [\"negamax\", player.run], num_iterations=100)\n",
    "print(\"\\n\")\n",
    "evaluateKaggle(\"connectx\", [player.run, \"negamax\"], num_iterations=100)"
   ]
  },
  {
   "cell_type": "code",
   "execution_count": null,
   "metadata": {},
   "outputs": [],
   "source": []
  },
  {
   "cell_type": "code",
   "execution_count": null,
   "metadata": {},
   "outputs": [],
   "source": []
  }
 ],
 "metadata": {
  "kernelspec": {
   "display_name": "Python 3 (ipykernel)",
   "language": "python",
   "name": "python3"
  },
  "language_info": {
   "codemirror_mode": {
    "name": "ipython",
    "version": 3
   },
   "file_extension": ".py",
   "mimetype": "text/x-python",
   "name": "python",
   "nbconvert_exporter": "python",
   "pygments_lexer": "ipython3",
   "version": "3.8.2"
  },
  "vscode": {
   "interpreter": {
    "hash": "2177f1ca12c1330a133c1d40b46100b268ab447cddcbdfdc0c7b2b7e4840e700"
   }
  }
 },
 "nbformat": 4,
 "nbformat_minor": 2
}
